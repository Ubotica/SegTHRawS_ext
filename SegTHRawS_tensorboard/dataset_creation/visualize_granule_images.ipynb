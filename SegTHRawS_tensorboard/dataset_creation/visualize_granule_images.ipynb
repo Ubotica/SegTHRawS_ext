{
 "cells": [
  {
   "cell_type": "code",
   "execution_count": 4,
   "metadata": {},
   "outputs": [],
   "source": [
    "from get_granule_image import get_granule_image\n",
    "\n",
    "scene_name = 'Karangetang_0_08'\n",
    "granule_idx = 0\n",
    "\n",
    "image = get_granule_image(desired_scene_name=scene_name,desired_granule_idx=granule_idx)\n",
    "\n"
   ]
  },
  {
   "cell_type": "code",
   "execution_count": 9,
   "metadata": {},
   "outputs": [
    {
     "name": "stdout",
     "output_type": "stream",
     "text": [
      "(1152, 1296, 3)\n"
     ]
    }
   ],
   "source": [
    "import cv2 \n",
    "\n",
    "print(image.shape)\n",
    "cv2.imshow('Image',image[:,:,2])\n",
    "cv2.waitKey(0)\n",
    "cv2.destroyAllWindows()"
   ]
  },
  {
   "cell_type": "code",
   "execution_count": 10,
   "metadata": {},
   "outputs": [],
   "source": [
    "scene_name = 'Karangetang_0_10'\n",
    "granule_idx = 4\n",
    "\n",
    "image_2 = get_granule_image(desired_scene_name=scene_name,desired_granule_idx=granule_idx)\n"
   ]
  },
  {
   "cell_type": "code",
   "execution_count": 16,
   "metadata": {},
   "outputs": [],
   "source": [
    "import cv2 \n",
    "\n",
    "# print(image_2.shape)\n",
    "cv2.imshow('Image',image_2[:,:,1])\n",
    "cv2.waitKey(0)\n",
    "cv2.destroyAllWindows()"
   ]
  },
  {
   "cell_type": "code",
   "execution_count": 17,
   "metadata": {},
   "outputs": [],
   "source": [
    "scene_name = 'Nyamulagira_04'\n",
    "granule_idx = 5\n",
    "\n",
    "image_3 = get_granule_image(desired_scene_name=scene_name,desired_granule_idx=granule_idx)\n"
   ]
  },
  {
   "cell_type": "code",
   "execution_count": 21,
   "metadata": {},
   "outputs": [],
   "source": [
    "import cv2 \n",
    "\n",
    "# print(image_3.shape)\n",
    "cv2.imshow('Image',image_3[:,:,1])\n",
    "cv2.waitKey(0)\n",
    "cv2.destroyAllWindows()"
   ]
  }
 ],
 "metadata": {
  "kernelspec": {
   "display_name": "Python 3",
   "language": "python",
   "name": "python3"
  },
  "language_info": {
   "codemirror_mode": {
    "name": "ipython",
    "version": 3
   },
   "file_extension": ".py",
   "mimetype": "text/x-python",
   "name": "python",
   "nbconvert_exporter": "python",
   "pygments_lexer": "ipython3",
   "version": "3.12.2"
  },
  "orig_nbformat": 4
 },
 "nbformat": 4,
 "nbformat_minor": 2
}
