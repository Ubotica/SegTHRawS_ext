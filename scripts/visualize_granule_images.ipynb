{
 "cells": [
  {
   "cell_type": "code",
   "execution_count": null,
   "metadata": {},
   "outputs": [],
   "source": [
    "from get_granule_image import get_granule_image\n",
    "\n",
    "scene_name = 'Karangetang_0_08'\n",
    "granule_idx = 1\n",
    "\n",
    "image = get_granule_image(desired_scene_name=scene_name,desired_granule_idx=granule_idx)"
   ]
  },
  {
   "cell_type": "code",
   "execution_count": null,
   "metadata": {},
   "outputs": [
    {
     "name": "stdout",
     "output_type": "stream",
     "text": [
      "This granule: \u001b[31m2\u001b[0m\n",
      "Stackable granules: \u001b[31m[[0, 2], [1, 3], [2, 4], [3, 5]]\u001b[0m\n",
      "Granule before: \u001b[31m0\u001b[0m\n",
      "Granule after: \u001b[31m4\u001b[0m\n",
      "Bands shifts:  \u001b[32m[[-198.0, 0.0], [-15.0, -12.0]]\u001b[0m\n"
     ]
    }
   ],
   "source": [
    "from coregistration_superglue_multiband import SuperGlue_registration\n",
    "import os\n",
    "\n",
    "from constants import thraws_data_path\n",
    "\n",
    "data_path = thraws_data_path\n",
    "\n",
    "desired_scene_name = \"Kenya_0\"\n",
    "desired_granule_idx = 2\n",
    "\n",
    "bands_list = [\"B12\",\"B11\",\"B8A\"]\n",
    "scene_groups_paths = [\n",
    "        os.path.join(data_path,d) for d in os.listdir(data_path) if os.path.isdir(os.path.join(data_path, d))\n",
    "    ]\n",
    "\n",
    "from pyraws.raw.raw_event import Raw_event\n",
    "\n",
    "\n",
    "# scene_name_condition = False\n",
    "# Process creating loop\n",
    "for i,scene_group_path in enumerate(scene_groups_paths):\n",
    "    \n",
    "        scenes_paths = [\n",
    "                os.path.join(scene_group_path,scene_name) for scene_name in os.listdir(scene_group_path) if os.path.isdir(os.path.join(scene_group_path, scene_name))\n",
    "            ]\n",
    "        \n",
    "        for scene_path in scenes_paths:\n",
    "            granules_paths = [\n",
    "                os.path.join(scene_path,granule_name) for granule_name in os.listdir(scene_path) if os.path.isdir(os.path.join(scene_path, granule_name))\n",
    "            ]\n",
    "            scene_name = os.path.basename(scene_path)\n",
    "\n",
    "            if scene_name == desired_scene_name:\n",
    "                # print(scene_name)\n",
    "                for granule_idx in range(len(granules_paths)):\n",
    "\n",
    "                    if granule_idx == desired_granule_idx:\n",
    "                        raw_coreg_granule,_,coarse_status = SuperGlue_registration(bands_list=bands_list,event_path=scene_path,granule_idx=granule_idx,verbose=True)\n",
    "\n",
    "                        raw_event = Raw_event()\n",
    "\n",
    "                        # Read event from data\n",
    "                        raw_event.from_path(  # Path to the event\n",
    "                            raw_dir_path=scene_path,\n",
    "                            # Bands to open. Leave to None to use all the bands.\n",
    "                            bands_list=bands_list,\n",
    "                            # If True, verbose mode is on.\n",
    "                            verbose=False,\n",
    "                        )\n",
    "\n",
    "                        raw_granule = raw_event.get_granule(granule_idx).as_tensor()\n",
    "\n"
   ]
  },
  {
   "cell_type": "code",
   "execution_count": null,
   "metadata": {},
   "outputs": [],
   "source": [
    "import sys\n",
    "sys.path.insert(1,'..')\n",
    "from utils import normalize_to_0_to_1\n",
    "import numpy as np\n",
    "granule = normalize_to_0_to_1(raw_granule).numpy()\n",
    "granule_f16 = granule.astype(np.float16)\n",
    "\n",
    "\n",
    "def apply_shift(band, shifts):\n",
    "    band_shifted = np.zeros_like(band)\n",
    "    shifts = [int(shifts[0]), int(shifts[1])]\n",
    "    if (shifts[0] == 0) and (shifts[1] == 0):\n",
    "        band_shifted = band\n",
    "    elif (shifts[0] == 0) and (shifts[1] < 0):\n",
    "        band_shifted[:, : int(shifts[1])] = band[:, -int(shifts[1]) :]\n",
    "    elif (shifts[0] == 0) and (shifts[1] > 0):\n",
    "        band_shifted[:, int(shifts[1]) :] = band[:, : -int(shifts[1])]\n",
    "    elif (shifts[0] < 0) and (shifts[1] == 0):\n",
    "        band_shifted[: int(shifts[0]), :] = band[-int(shifts[0]) :, :]\n",
    "    elif (shifts[0] > 0) and (shifts[1] == 0):\n",
    "        band_shifted[int(shifts[0]) :, :] = band[: -int(shifts[0]), :]\n",
    "    elif (shifts[0] > 0) and (shifts[1] > 0):\n",
    "        band_shifted[int(shifts[0]) :, int(shifts[1]) :] = band[\n",
    "            : -int(shifts[0]), : -int(shifts[1])\n",
    "        ]\n",
    "    elif (shifts[0] > 0) and (shifts[1] < 0):\n",
    "        band_shifted[int(shifts[0]) :, : int(shifts[1])] = band[\n",
    "            : -int(shifts[0]), -int(shifts[1]) :\n",
    "        ]\n",
    "    elif (shifts[0] < 0) and (shifts[1] > 0):\n",
    "        band_shifted[: int(shifts[0]), int(shifts[1]) :] = band[\n",
    "            -int(shifts[0]) :, : -int(shifts[1])\n",
    "        ]\n",
    "    else:\n",
    "        band_shifted[: int(shifts[0]), : int(shifts[1])] = band[\n",
    "            -int(shifts[0]) :, -int(shifts[1]) :\n",
    "        ]\n",
    "\n",
    "    return band_shifted\n",
    "\n",
    "\n",
    "shift_list = [[199.0, -1.0], [25.0, -3.0]]\n",
    "\n",
    "\n",
    "aligned_b11 = apply_shift(granule[:,:,1],shifts=shift_list[0])\n",
    "aligned_b8a = apply_shift(granule[:,::-1,2],shifts=shift_list[1])\n",
    "\n",
    "granule_coregistered = np.dstack((granule[:,:,0],aligned_b11,aligned_b8a))\n",
    "\n",
    "\n"
   ]
  },
  {
   "cell_type": "code",
   "execution_count": null,
   "metadata": {},
   "outputs": [],
   "source": [
    "from utils import save_as_binary\n",
    "\n",
    "save_as_binary(output_path='NIR_SWIR_original_Kenya_0_G2_testing.bin',image=granule)"
   ]
  },
  {
   "cell_type": "code",
   "execution_count": null,
   "metadata": {},
   "outputs": [],
   "source": [
    "import cv2 \n",
    "\n",
    "cv2.imshow('Image B12',granule[:,:,0])\n",
    "cv2.imshow('Image B11',granule[:,:,1])\n",
    "cv2.imshow('Image B8A',granule[:,:,2])\n",
    "cv2.imshow('Co-registered',granule_coregistered)\n",
    "cv2.waitKey(0)\n",
    "cv2.destroyAllWindows()"
   ]
  },
  {
   "cell_type": "code",
   "execution_count": null,
   "metadata": {},
   "outputs": [
    {
     "name": "stdout",
     "output_type": "stream",
     "text": [
      "0.8764347\n",
      "0.0\n"
     ]
    }
   ],
   "source": [
    "from constants import DATASET_PATH\n",
    "import os\n",
    "import pickle\n",
    "rgb_path = os.path.join(DATASET_PATH,'images','event','RGB')\n",
    "images = [os.path.join(rgb_path,rgb_image_name) for rgb_image_name in os.listdir(rgb_path)]\n",
    "upper_thresholds = []\n",
    "lower_thresholds = []\n",
    "mean_thresholds = []\n",
    "std_thresholds = []\n",
    "for image_path in images:\n",
    "    with open(image_path,'rb') as file:\n",
    "        image = pickle.load(file)\n",
    "    upper_thresholds.append(image.max())\n",
    "    lower_thresholds.append(image.min())\n",
    "    mean_thresholds.append(image.mean())\n",
    "    std_thresholds.append(image.std())\n",
    "print(max(upper_thresholds))\n",
    "print(min(lower_thresholds))"
   ]
  },
  {
   "cell_type": "code",
   "execution_count": null,
   "metadata": {},
   "outputs": [
    {
     "data": {
      "text/plain": [
       "(0.0873259, 0.035534315)"
      ]
     },
     "metadata": {},
     "output_type": "display_data"
    }
   ],
   "source": [
    "np.mean(mean_thresholds),np.std(std_thresholds)"
   ]
  },
  {
   "cell_type": "code",
   "execution_count": null,
   "metadata": {},
   "outputs": [],
   "source": [
    "import numpy as np\n",
    "\n",
    "def normalize_0_1_float(band,band_max,band_min):\n",
    "    # Function that converts 16bits images into 8bits images\n",
    "    # band_max, band_min = band.max(), band.min()\n",
    "    new_image = (((band - band_min) / ((band_max - band_min))) ).astype(np.float32)\n",
    "    new_image[new_image >1] = 1\n",
    "    return (((band - band_min) / ((band_max - band_min))) ).astype(np.float32)\n",
    "\n",
    "def normalize(band):\n",
    "    # Function that converts 16bits images into 8bits images\n",
    "    band_max, band_min = band.max(), band.min()\n",
    "    return (((band - band_min) / ((band_max - band_min))) * 255).astype(np.uint8)\n",
    "\n",
    "\n",
    "def normalizeStd(image):\n",
    "    \"\"\"Normalize the input around the mean value and twice the standard deviation\n",
    "\n",
    "    Attributes\n",
    "    ----------\n",
    "    image : array\n",
    "        Image to be normalized with its mean and standard deviation.\n",
    "\n",
    "    Output :\n",
    "    ------\n",
    "    Float32 image.\n",
    "\n",
    "    Notes\n",
    "    -----\n",
    "    Applied normally in visualization purposes. The normalization is better than the normal min and max.\n",
    "    \"\"\"\n",
    "    return (\n",
    "        (image - (np.nanmean(image) - np.nanstd(image) * 2))\n",
    "        / (\n",
    "            (np.nanmean(image) + np.nanstd(image) * 2)\n",
    "            - (np.nanmean(image) - np.nanstd(image) * 2)\n",
    "        )\n",
    "    ).astype(np.float32)\n",
    "\n",
    "def normalizeStd_global(image,mean,std):\n",
    "    \"\"\"Normalize the input around the mean value and twice the standard deviation\n",
    "\n",
    "    Attributes\n",
    "    ----------\n",
    "    image : array\n",
    "        Image to be normalized with its mean and standard deviation.\n",
    "\n",
    "    Output :\n",
    "    ------\n",
    "    Float32 image.\n",
    "\n",
    "    Notes\n",
    "    -----\n",
    "    Applied normally in visualization purposes. The normalization is better than the normal min and max.\n",
    "    \"\"\"\n",
    "    return (\n",
    "        (image - (mean - std * 2))\n",
    "        / (\n",
    "            (mean + std * 2)\n",
    "            - (mean - std * 2)\n",
    "        )\n",
    "    ).astype(np.float32)\n",
    "\n",
    "upper_norm = max(upper_thresholds)\n",
    "lower_norm = min(lower_thresholds)\n",
    "\n",
    "import cv2\n",
    "\n",
    "for image_path in images:\n",
    "    with open(image_path,'rb') as file:\n",
    "        image = pickle.load(file)\n",
    "    norm_image = normalize_0_1_float(image,np.mean(upper_thresholds),lower_norm)\n",
    "    norm_image_2 = normalize(image)\n",
    "    norm_image_3 = normalizeStd(image)\n",
    "    norm_image_4 = normalizeStd_global(image,np.mean(mean_thresholds),np.std(std_thresholds))\n",
    "    # print(norm_image_4.max(),norm_image_4.min())\n",
    "    cv2.imshow('Image',image)\n",
    "    cv2.imshow('Normalized image',norm_image)\n",
    "    cv2.imshow('Normalized image 2',norm_image_2)\n",
    "    cv2.imshow('Normalized image 3',norm_image_3)\n",
    "    cv2.imshow('Normalized image 4',norm_image_4)\n",
    "    key = cv2.waitKey(0)\n",
    "\n",
    "    if key == 27:\n",
    "        cv2.destroyAllWindows()\n",
    "        break\n",
    "    cv2.destroyAllWindows()\n",
    "    # if i >2:\n",
    "    #     break\n",
    "\n",
    "    "
   ]
  },
  {
   "cell_type": "code",
   "execution_count": null,
   "metadata": {},
   "outputs": [
    {
     "name": "stdout",
     "output_type": "stream",
     "text": [
      "(1152, 1296, 3)\n"
     ]
    }
   ],
   "source": [
    "import cv2 \n",
    "\n",
    "print(image.shape)\n",
    "cv2.imshow('Image',image[:,:,2])\n",
    "cv2.waitKey(0)\n",
    "cv2.destroyAllWindows()"
   ]
  },
  {
   "cell_type": "code",
   "execution_count": null,
   "metadata": {},
   "outputs": [],
   "source": [
    "images_path = \"/media/cristopher/SansDisk1TB/datasets/train_geo_split_weakly_B04_B03_B02_dataset_norm/test/images\"\n",
    "\n",
    "def read_binary_image(image_path: str,\n",
    "                      dtype: type = None,\n",
    "                      shape: list = None\n",
    "                      ):\n",
    "    with open(image_path, 'rb') as f:\n",
    "        image_bin = f.read()\n",
    "        if dtype:\n",
    "            image = np.frombuffer(image_bin,dtype=dtype)\n",
    "        else:\n",
    "            image = np.frombuffer(image_bin)\n",
    "\n",
    "        if shape:\n",
    "            image = image.reshape((shape))\n",
    "\n",
    "    return image\n",
    "\n",
    "for image_name in os.listdir(images_path):\n",
    "    image_path = os.path.join(images_path,image_name)\n",
    "    image = read_binary_image(image_path=image_path,dtype=np.float32,shape=[256,256,3])\n",
    "    \n",
    "    cv2.imshow('Image',image)\n",
    "    key = cv2.waitKey(0)\n",
    "\n",
    "    if key == 27:\n",
    "        cv2.destroyAllWindows()\n",
    "        break\n",
    "    cv2.destroyAllWindows()"
   ]
  },
  {
   "cell_type": "code",
   "execution_count": null,
   "metadata": {},
   "outputs": [],
   "source": [
    "scene_name = 'Karangetang_0_10'\n",
    "granule_idx = 4\n",
    "\n",
    "image_2 = get_granule_image(desired_scene_name=scene_name,desired_granule_idx=granule_idx)\n"
   ]
  },
  {
   "cell_type": "code",
   "execution_count": null,
   "metadata": {},
   "outputs": [],
   "source": [
    "import cv2 \n",
    "\n",
    "# print(image_2.shape)\n",
    "cv2.imshow('Image',image_2[:,:,1])\n",
    "cv2.waitKey(0)\n",
    "cv2.destroyAllWindows()"
   ]
  },
  {
   "cell_type": "code",
   "execution_count": null,
   "metadata": {},
   "outputs": [],
   "source": [
    "scene_name = 'Nyamulagira_04'\n",
    "granule_idx = 5\n",
    "\n",
    "image_3 = get_granule_image(desired_scene_name=scene_name,desired_granule_idx=granule_idx)\n"
   ]
  },
  {
   "cell_type": "code",
   "execution_count": null,
   "metadata": {},
   "outputs": [],
   "source": [
    "import cv2 \n",
    "\n",
    "# print(image_3.shape)\n",
    "cv2.imshow('Image',image_3[:,:,1])\n",
    "cv2.waitKey(0)\n",
    "cv2.destroyAllWindows()"
   ]
  }
 ],
 "metadata": {
  "kernelspec": {
   "display_name": "Python 3",
   "language": "python",
   "name": "python3"
  },
  "language_info": {
   "codemirror_mode": {
    "name": "ipython",
    "version": 3
   },
   "file_extension": ".py",
   "mimetype": "text/x-python",
   "name": "python",
   "nbconvert_exporter": "python",
   "pygments_lexer": "ipython3",
   "version": "3.12.2"
  },
  "orig_nbformat": 4
 },
 "nbformat": 4,
 "nbformat_minor": 2
}
