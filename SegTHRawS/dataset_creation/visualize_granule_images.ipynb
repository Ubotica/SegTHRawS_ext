{
 "cells": [
  {
   "cell_type": "code",
   "execution_count": 14,
   "metadata": {},
   "outputs": [
    {
     "name": "stdout",
     "output_type": "stream",
     "text": [
      "0.0 0.7565324\n"
     ]
    }
   ],
   "source": [
    "from get_granule_image import get_granule_image\n",
    "\n",
    "scene_name = 'Raung_1_05'\n",
    "granule_idx = 2\n",
    "\n",
    "image = get_granule_image(desired_scene_name=scene_name,desired_granule_idx=granule_idx)\n",
    "\n",
    "print(image.min(),image.max())\n",
    "empty_pixels_pattern = np.all(raw_coreg_granule != 0,axis=2)\n"
   ]
  },
  {
   "cell_type": "code",
   "execution_count": 34,
   "metadata": {},
   "outputs": [],
   "source": [
    "import numpy as np, cv2 \n",
    "\n",
    "def normalize(band):\n",
    "    # Function that converts 16bits images into 8bits images\n",
    "    band_max, band_min = band.max(), band.min()\n",
    "    return (((band - band_min) / ((band_max - band_min))) * 255).astype(np.uint8)\n",
    "\n",
    "# empty_pixels_pattern = np.all(image != 0,axis=2)\n",
    "# image_empty = (image[:,:,1])*empty_pixels_pattern\n",
    "# print(image_empty.min())\n",
    "# print(image.shape)\n",
    "\n",
    "# import matplotlib.pyplot as plt\n",
    "# %matplotlib inline\n",
    "# plt.imshow(empty_pixels_pattern)\n",
    "# plt.show()\n",
    "\n",
    "cv2.imshow('Image',normalize(image))\n",
    "cv2.waitKey(0)\n",
    "cv2.destroyAllWindows()"
   ]
  },
  {
   "cell_type": "code",
   "execution_count": 10,
   "metadata": {},
   "outputs": [],
   "source": [
    "scene_name = 'Karangetang_0_10'\n",
    "granule_idx = 4\n",
    "\n",
    "image_2 = get_granule_image(desired_scene_name=scene_name,desired_granule_idx=granule_idx)\n"
   ]
  },
  {
   "cell_type": "code",
   "execution_count": 16,
   "metadata": {},
   "outputs": [],
   "source": [
    "import cv2 \n",
    "\n",
    "# print(image_2.shape)\n",
    "cv2.imshow('Image',image_2[:,:,1])\n",
    "cv2.waitKey(0)\n",
    "cv2.destroyAllWindows()"
   ]
  },
  {
   "cell_type": "code",
   "execution_count": 17,
   "metadata": {},
   "outputs": [],
   "source": [
    "scene_name = 'Nyamulagira_04'\n",
    "granule_idx = 5\n",
    "\n",
    "image_3 = get_granule_image(desired_scene_name=scene_name,desired_granule_idx=granule_idx)\n"
   ]
  },
  {
   "cell_type": "code",
   "execution_count": 21,
   "metadata": {},
   "outputs": [],
   "source": [
    "import cv2 \n",
    "\n",
    "# print(image_3.shape)\n",
    "cv2.imshow('Image',image_3[:,:,1])\n",
    "cv2.waitKey(0)\n",
    "cv2.destroyAllWindows()"
   ]
  }
 ],
 "metadata": {
  "kernelspec": {
   "display_name": "Python 3",
   "language": "python",
   "name": "python3"
  },
  "language_info": {
   "codemirror_mode": {
    "name": "ipython",
    "version": 3
   },
   "file_extension": ".py",
   "mimetype": "text/x-python",
   "name": "python",
   "nbconvert_exporter": "python",
   "pygments_lexer": "ipython3",
   "version": "3.9.18"
  },
  "orig_nbformat": 4
 },
 "nbformat": 4,
 "nbformat_minor": 2
}
